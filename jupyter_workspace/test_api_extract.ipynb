{
 "cells": [
  {
   "cell_type": "code",
   "execution_count": 1,
   "id": "8c3a4fad-ad85-416c-b199-f15ac4f036f3",
   "metadata": {},
   "outputs": [
    {
     "data": {
      "text/plain": [
       "{'ResponseMetadata': {'RequestId': 'TDD4ZM2448SJVGVG',\n",
       "  'HostId': 'qTeozYFqX3ZKbgMX21lR6xMXHjPUAb1++/2YrO378F3APChMRBCmse5Ai6gmVDbkTOQZi0rpjH8=',\n",
       "  'HTTPStatusCode': 200,\n",
       "  'HTTPHeaders': {'x-amz-id-2': 'qTeozYFqX3ZKbgMX21lR6xMXHjPUAb1++/2YrO378F3APChMRBCmse5Ai6gmVDbkTOQZi0rpjH8=',\n",
       "   'x-amz-request-id': 'TDD4ZM2448SJVGVG',\n",
       "   'date': 'Thu, 17 Aug 2023 20:33:45 GMT',\n",
       "   'x-amz-server-side-encryption': 'AES256',\n",
       "   'etag': '\"3318801a4237641ae39b4c621037f0ab\"',\n",
       "   'server': 'AmazonS3',\n",
       "   'content-length': '0'},\n",
       "  'RetryAttempts': 0},\n",
       " 'ETag': '\"3318801a4237641ae39b4c621037f0ab\"',\n",
       " 'ServerSideEncryption': 'AES256'}"
      ]
     },
     "execution_count": 1,
     "metadata": {},
     "output_type": "execute_result"
    }
   ],
   "source": [
    "import boto3\n",
    "import json\n",
    "import requests \n",
    "\n",
    "\n",
    "# Initializes S3 client\n",
    "s3 = boto3.client('s3')\n",
    "\n",
    "response = requests.get('https://jsonplaceholder.typicode.com/users/').json()\n",
    "\n",
    "\n",
    "s3.put_object(\n",
    "    Bucket='lmu-data', \n",
    "    Key='bronze/jsonplaceholder/data.json',\n",
    "    Body=json.dumps(response, indent=2, default=str)\n",
    ")"
   ]
  }
 ],
 "metadata": {
  "kernelspec": {
   "display_name": "Python 3 (ipykernel)",
   "language": "python",
   "name": "python3"
  },
  "language_info": {
   "codemirror_mode": {
    "name": "ipython",
    "version": 3
   },
   "file_extension": ".py",
   "mimetype": "text/x-python",
   "name": "python",
   "nbconvert_exporter": "python",
   "pygments_lexer": "ipython3",
   "version": "3.10.2"
  }
 },
 "nbformat": 4,
 "nbformat_minor": 5
}
