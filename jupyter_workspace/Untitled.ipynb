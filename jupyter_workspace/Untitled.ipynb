{
 "cells": [
  {
   "cell_type": "code",
   "execution_count": 1,
   "id": "5ab0af1f-4784-4233-aed8-2b878a336a90",
   "metadata": {},
   "outputs": [
    {
     "name": "stdout",
     "output_type": "stream",
     "text": [
      "Starting Spark application\n"
     ]
    },
    {
     "data": {
      "text/html": [
       "<table>\n",
       "<tr><th>ID</th><th>YARN Application ID</th><th>Kind</th><th>State</th><th>Spark UI</th><th>Driver log</th><th>User</th><th>Current session?</th></tr><tr><td>3</td><td>None</td><td>pyspark</td><td>idle</td><td></td><td></td><td>None</td><td>✔</td></tr></table>"
      ],
      "text/plain": [
       "<IPython.core.display.HTML object>"
      ]
     },
     "metadata": {},
     "output_type": "display_data"
    },
    {
     "data": {
      "application/vnd.jupyter.widget-view+json": {
       "model_id": "",
       "version_major": 2,
       "version_minor": 0
      },
      "text/plain": [
       "FloatProgress(value=0.0, bar_style='info', description='Progress:', layout=Layout(height='25px', width='50%'),…"
      ]
     },
     "metadata": {},
     "output_type": "display_data"
    },
    {
     "name": "stdout",
     "output_type": "stream",
     "text": [
      "SparkSession available as 'spark'.\n"
     ]
    },
    {
     "data": {
      "application/vnd.jupyter.widget-view+json": {
       "model_id": "",
       "version_major": 2,
       "version_minor": 0
      },
      "text/plain": [
       "FloatProgress(value=0.0, bar_style='info', description='Progress:', layout=Layout(height='25px', width='50%'),…"
      ]
     },
     "metadata": {},
     "output_type": "display_data"
    },
    {
     "name": "stderr",
     "output_type": "stream",
     "text": [
      "An error was encountered:\n",
      "Cannot run multiple SparkContexts at once; existing SparkContext(app=livy-session-3, master=local) created by __init__ at /tmp/5820765436896382516:600 \n",
      "Traceback (most recent call last):\n",
      "  File \"/home/glue_user/spark/python/pyspark/context.py\", line 195, in __init__\n",
      "    SparkContext._ensure_initialized(self, gateway=gateway, conf=conf)\n",
      "  File \"/home/glue_user/spark/python/pyspark/context.py\", line 438, in _ensure_initialized\n",
      "    raise ValueError(\n",
      "ValueError: Cannot run multiple SparkContexts at once; existing SparkContext(app=livy-session-3, master=local) created by __init__ at /tmp/5820765436896382516:600 \n",
      "\n"
     ]
    }
   ],
   "source": [
    "import sys\n",
    "from awsglue.transforms import *\n",
    "from awsglue.utils import getResolvedOptions\n",
    "from pyspark.context import SparkContext\n",
    "from awsglue.context import GlueContext\n",
    "from awsglue.job import Job\n",
    "\n",
    "# args = getResolvedOptions(sys.argv, [\"JOB_NAME\"])\n",
    "sc = SparkContext()\n",
    "glueContext = GlueContext(sc)\n",
    "spark = glueContext.spark_session\n",
    "job = Job(glueContext)\n",
    "# job.init(args[\"JOB_NAME\"], args)\n",
    "\n",
    "# Script generated for node S3 bucket\n",
    "S3bucket_node1 = glueContext.create_dynamic_frame.from_options(\n",
    "    format_options={\"quoteChar\": '\"', \"withHeader\": True, \"separator\": \",\"},\n",
    "    connection_type=\"s3\",\n",
    "    format=\"csv\",\n",
    "    connection_options={\"paths\": [\"s3://lmu-football\"], \"recurse\": True},\n",
    "    transformation_ctx=\"S3bucket_node1\",\n",
    ")\n",
    "\n",
    "# Script generated for node ApplyMapping\n",
    "ApplyMapping_node2 = ApplyMapping.apply(\n",
    "    frame=S3bucket_node1,\n",
    "    mappings=[\n",
    "        (\"Country\", \"string\", \"Country\", \"string\"),\n",
    "        (\"League\", \"string\", \"League\", \"string\"),\n",
    "        (\"Season\", \"string\", \"Season\", \"string\"),\n",
    "        (\"Date\", \"string\", \"Date\", \"string\"),\n",
    "        (\"Time\", \"string\", \"Time\", \"string\"),\n",
    "        (\"Home\", \"string\", \"Home\", \"string\"),\n",
    "        (\"Away\", \"string\", \"Away\", \"string\"),\n",
    "        (\"HG\", \"string\", \"HG\", \"string\"),\n",
    "        (\"AG\", \"string\", \"AG\", \"string\"),\n",
    "        (\"Res\", \"string\", \"Res\", \"string\"),\n",
    "        (\"PH\", \"string\", \"PH\", \"string\"),\n",
    "        (\"PD\", \"string\", \"PD\", \"string\"),\n",
    "        (\"PA\", \"string\", \"PA\", \"string\"),\n",
    "        (\"MaxH\", \"string\", \"MaxH\", \"string\"),\n",
    "        (\"MaxD\", \"string\", \"MaxD\", \"string\"),\n",
    "        (\"MaxA\", \"string\", \"MaxA\", \"string\"),\n",
    "        (\"AvgH\", \"string\", \"AvgH\", \"string\"),\n",
    "        (\"AvgD\", \"string\", \"AvgD\", \"string\"),\n",
    "        (\"AvgA\", \"string\", \"AvgA\", \"string\"),\n",
    "    ],\n",
    "    transformation_ctx=\"ApplyMapping_node2\",\n",
    ")\n",
    "\n",
    "# Script generated for node S3 bucket\n",
    "S3bucket_node3 = glueContext.write_dynamic_frame.from_options(\n",
    "    frame=ApplyMapping_node2,\n",
    "    connection_type=\"s3\",\n",
    "    format=\"glueparquet\",\n",
    "    connection_options={\"path\": \"s3://lmu-data/football-mx\", \"partitionKeys\": []},\n",
    "    format_options={\"compression\": \"snappy\"},\n",
    "    transformation_ctx=\"S3bucket_node3\",\n",
    ")\n"
   ]
  },
  {
   "cell_type": "code",
   "execution_count": null,
   "id": "878e5f1e-2500-481f-a1ad-beee7ec2a7f3",
   "metadata": {},
   "outputs": [],
   "source": []
  }
 ],
 "metadata": {
  "kernelspec": {
   "display_name": "PySpark",
   "language": "python",
   "name": "pysparkkernel"
  },
  "language_info": {
   "codemirror_mode": {
    "name": "python",
    "version": 3
   },
   "file_extension": ".py",
   "mimetype": "text/x-python",
   "name": "pyspark",
   "pygments_lexer": "python3"
  }
 },
 "nbformat": 4,
 "nbformat_minor": 5
}
