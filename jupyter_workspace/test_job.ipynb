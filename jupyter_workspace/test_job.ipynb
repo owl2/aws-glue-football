{
 "cells": [
  {
   "cell_type": "code",
   "execution_count": 11,
   "id": "d2ab8026-36d5-4d8f-9d29-ab183505ec58",
   "metadata": {},
   "outputs": [
    {
     "data": {
      "application/vnd.jupyter.widget-view+json": {
       "model_id": "",
       "version_major": 2,
       "version_minor": 0
      },
      "text/plain": [
       "FloatProgress(value=0.0, bar_style='info', description='Progress:', layout=Layout(height='25px', width='50%'),…"
      ]
     },
     "metadata": {},
     "output_type": "display_data"
    }
   ],
   "source": [
    "import sys\n",
    "from awsglue.transforms import *\n",
    "from awsglue.utils import getResolvedOptions\n",
    "from pyspark.context import SparkContext\n",
    "from awsglue.context import GlueContext\n",
    "from awsglue.job import Job\n",
    "from awsglue import DynamicFrame\n",
    "\n",
    "\n",
    "def sparkSqlQuery(glueContext, query, mapping, transformation_ctx) -> DynamicFrame:\n",
    "    for alias, frame in mapping.items():\n",
    "        frame.toDF().createOrReplaceTempView(alias)\n",
    "    result = spark.sql(query)\n",
    "    return DynamicFrame.fromDF(result, glueContext, transformation_ctx)\n",
    "\n",
    "\n",
    "sys.argv += [\"--JOB_NAME\", \"TEST\"]\n",
    "args = getResolvedOptions(sys.argv, [\"JOB_NAME\"])\n",
    "sc = SparkContext.getOrCreate()\n",
    "glueContext = GlueContext(sc)\n",
    "spark = glueContext.spark_session\n",
    "job = Job(glueContext)\n",
    "job.init(args[\"JOB_NAME\"], args)\n",
    "\n",
    "# Script generated for node S3 bucket\n",
    "S3bucket_node1 = glueContext.create_dynamic_frame.from_options(\n",
    "    format_options={\n",
    "        \"quoteChar\": '\"',\n",
    "        \"withHeader\": True,\n",
    "        \"separator\": \",\",\n",
    "        \"optimizePerformance\": False,\n",
    "    },\n",
    "    connection_type=\"s3\",\n",
    "    format=\"csv\",\n",
    "    connection_options={\"paths\": [\"s3://lmu-football/\"], \"recurse\": True},\n",
    "    transformation_ctx=\"S3bucket_node1\",\n",
    ")\n",
    "\n",
    "# Script generated for node ApplyMapping\n",
    "ApplyMapping_node2 = ApplyMapping.apply(\n",
    "    frame=S3bucket_node1,\n",
    "    mappings=[\n",
    "        (\"Country\", \"string\", \"Country\", \"string\"),\n",
    "        (\"League\", \"string\", \"League\", \"string\"),\n",
    "        (\"Season\", \"string\", \"Season\", \"string\"),\n",
    "        (\"Date\", \"string\", \"Date\", \"string\"),\n",
    "        (\"Time\", \"string\", \"Time\", \"string\"),\n",
    "        (\"Home\", \"string\", \"Home\", \"string\"),\n",
    "        (\"Away\", \"string\", \"Away\", \"string\"),\n",
    "        (\"HG\", \"string\", \"HG\", \"string\"),\n",
    "        (\"AG\", \"string\", \"AG\", \"string\"),\n",
    "        (\"Res\", \"string\", \"Res\", \"string\"),\n",
    "        (\"PH\", \"string\", \"PH\", \"string\"),\n",
    "        (\"PD\", \"string\", \"PD\", \"string\"),\n",
    "        (\"PA\", \"string\", \"PA\", \"string\"),\n",
    "        (\"MaxH\", \"string\", \"MaxH\", \"string\"),\n",
    "        (\"MaxD\", \"string\", \"MaxD\", \"string\"),\n",
    "        (\"MaxA\", \"string\", \"MaxA\", \"string\"),\n",
    "        (\"AvgH\", \"string\", \"AvgH\", \"string\"),\n",
    "        (\"AvgD\", \"string\", \"AvgD\", \"string\"),\n",
    "        (\"AvgA\", \"string\", \"AvgA\", \"string\"),\n",
    "    ],\n",
    "    transformation_ctx=\"ApplyMapping_node2\",\n",
    ")\n",
    "\n",
    "# Script generated for node SQL Query\n",
    "SqlQuery0 = \"\"\"\n",
    "select * from myDataSource\n",
    "\"\"\"\n",
    "SQLQuery_node1692017719988 = sparkSqlQuery(\n",
    "    glueContext,\n",
    "    query=SqlQuery0,\n",
    "    mapping={\"myDataSource\": ApplyMapping_node2},\n",
    "    transformation_ctx=\"SQLQuery_node1692017719988\",\n",
    ")\n",
    "\n",
    "# Script generated for node S3 bucket\n",
    "S3bucket_node3 = glueContext.getSink(\n",
    "    path=\"s3://lmu-data/bronze/football/\",\n",
    "    connection_type=\"s3\",\n",
    "    updateBehavior=\"LOG\",\n",
    "    partitionKeys=[],\n",
    "    compression=\"snappy\",\n",
    "    enableUpdateCatalog=True,\n",
    "    transformation_ctx=\"S3bucket_node3\",\n",
    ")\n",
    "S3bucket_node3.setCatalogInfo(\n",
    "    catalogDatabase=\"football\", catalogTableName=\"football_test\"\n",
    ")\n",
    "S3bucket_node3.setFormat(\"csv\")\n",
    "S3bucket_node3.writeFrame(SQLQuery_node1692017719988)\n",
    "job.commit()"
   ]
  }
 ],
 "metadata": {
  "kernelspec": {
   "display_name": "PySpark",
   "language": "python",
   "name": "pysparkkernel"
  },
  "language_info": {
   "codemirror_mode": {
    "name": "python",
    "version": 3
   },
   "file_extension": ".py",
   "mimetype": "text/x-python",
   "name": "pyspark",
   "pygments_lexer": "python3"
  }
 },
 "nbformat": 4,
 "nbformat_minor": 5
}
